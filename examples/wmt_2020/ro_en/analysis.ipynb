{
 "cells": [
  {
   "cell_type": "code",
   "execution_count": 2,
   "metadata": {
    "collapsed": true
   },
   "outputs": [
    {
     "data": {
      "text/plain": "  index                                           original  \\\n0     0  După doar 200 de metri, ajungem la Foișorul Bă...   \n1     1  Guvernul numește un prefect în fiecare județ p...   \n2     2  În 1979, sovieticii au invadat Afghanistan, ia...   \n3     3  O treime din casele sale au fost avariate sau ...   \n4     4  Înaintea introducerii tramvaiului la Galați se...   \n5     5  A doua zi, gărzile de la depozitul din Concord...   \n6     6  Are o industrie turistică bine dezvoltată, fii...   \n7     7  Femeile sunt mai numeroase după vârsta de 30 d...   \n8     8  În mai 1915, Italia invadeză Austria și pierde...   \n9     9  Tratatul de Aderare fusese semnat la 16 aprili...   \n\n                                         translation    z_mean  \n0  Only 200 metres later, we arrive at the Former... -1.730965  \n1  The Government appoints a prefect to each coun...  0.851625  \n2  In 1979, the Soviets invaded Afghanistan and t...  1.060160  \n3  One third of his homes have been damaged or de...  0.744143  \n4  Before the tram was introduced in Galats it wo...  0.634248  \n5  The day two, the fences at the connection site...  0.544929  \n6  It has a well-developed tourist industry as a ...  1.085552  \n7       Women are more numerous after the age of 30.  0.939408  \n8  In May 1915, Italy invaded Austria and lost 20...  1.083785  \n9  The Accession Treaty had been signed on 16 Apr...  0.622639  ",
      "text/html": "<div>\n<style scoped>\n    .dataframe tbody tr th:only-of-type {\n        vertical-align: middle;\n    }\n\n    .dataframe tbody tr th {\n        vertical-align: top;\n    }\n\n    .dataframe thead th {\n        text-align: right;\n    }\n</style>\n<table border=\"1\" class=\"dataframe\">\n  <thead>\n    <tr style=\"text-align: right;\">\n      <th></th>\n      <th>index</th>\n      <th>original</th>\n      <th>translation</th>\n      <th>z_mean</th>\n    </tr>\n  </thead>\n  <tbody>\n    <tr>\n      <th>0</th>\n      <td>0</td>\n      <td>După doar 200 de metri, ajungem la Foișorul Bă...</td>\n      <td>Only 200 metres later, we arrive at the Former...</td>\n      <td>-1.730965</td>\n    </tr>\n    <tr>\n      <th>1</th>\n      <td>1</td>\n      <td>Guvernul numește un prefect în fiecare județ p...</td>\n      <td>The Government appoints a prefect to each coun...</td>\n      <td>0.851625</td>\n    </tr>\n    <tr>\n      <th>2</th>\n      <td>2</td>\n      <td>În 1979, sovieticii au invadat Afghanistan, ia...</td>\n      <td>In 1979, the Soviets invaded Afghanistan and t...</td>\n      <td>1.060160</td>\n    </tr>\n    <tr>\n      <th>3</th>\n      <td>3</td>\n      <td>O treime din casele sale au fost avariate sau ...</td>\n      <td>One third of his homes have been damaged or de...</td>\n      <td>0.744143</td>\n    </tr>\n    <tr>\n      <th>4</th>\n      <td>4</td>\n      <td>Înaintea introducerii tramvaiului la Galați se...</td>\n      <td>Before the tram was introduced in Galats it wo...</td>\n      <td>0.634248</td>\n    </tr>\n    <tr>\n      <th>5</th>\n      <td>5</td>\n      <td>A doua zi, gărzile de la depozitul din Concord...</td>\n      <td>The day two, the fences at the connection site...</td>\n      <td>0.544929</td>\n    </tr>\n    <tr>\n      <th>6</th>\n      <td>6</td>\n      <td>Are o industrie turistică bine dezvoltată, fii...</td>\n      <td>It has a well-developed tourist industry as a ...</td>\n      <td>1.085552</td>\n    </tr>\n    <tr>\n      <th>7</th>\n      <td>7</td>\n      <td>Femeile sunt mai numeroase după vârsta de 30 d...</td>\n      <td>Women are more numerous after the age of 30.</td>\n      <td>0.939408</td>\n    </tr>\n    <tr>\n      <th>8</th>\n      <td>8</td>\n      <td>În mai 1915, Italia invadeză Austria și pierde...</td>\n      <td>In May 1915, Italy invaded Austria and lost 20...</td>\n      <td>1.083785</td>\n    </tr>\n    <tr>\n      <th>9</th>\n      <td>9</td>\n      <td>Tratatul de Aderare fusese semnat la 16 aprili...</td>\n      <td>The Accession Treaty had been signed on 16 Apr...</td>\n      <td>0.622639</td>\n    </tr>\n  </tbody>\n</table>\n</div>"
     },
     "execution_count": 2,
     "metadata": {},
     "output_type": "execute_result"
    }
   ],
   "source": [
    "from examples.wmt_2020.common.util.reader import read_annotated_file, read_test_file\n",
    "import pandas as pd\n",
    "\n",
    "TRAIN_FILE = \"data/ro-en/train.roen.df.short.tsv\"\n",
    "DEV_FILE = \"data/ro-en/dev.roen.df.short.tsv\"\n",
    "TEST_FILE = \"data/ro-en/test20.roen.df.short.tsv\"\n",
    "\n",
    "train = read_annotated_file(TRAIN_FILE)\n",
    "dev = read_annotated_file(DEV_FILE)\n",
    "test = read_test_file(TEST_FILE)\n",
    "\n",
    "train[:10]"
   ]
  },
  {
   "cell_type": "code",
   "execution_count": null,
   "outputs": [],
   "source": [
    "import matplotlib.pyplot as plt\n",
    "\n",
    "\n",
    "original_qs = pd.Series(train['original'].tolist()).astype(str)\n",
    "translation_qs = pd.Series(train['translation'].tolist()).astype(str)\n",
    "\n",
    "dist_original = original_qs.apply(lambda x: len(x.split(' ')))\n",
    "dist_translation = translation_qs.apply(lambda x: len(x.split(' ')))\n",
    "\n",
    "plt.figure(figsize=(15, 10))\n",
    "plt.hist(dist_train, bins=50, range=[0, 50], color=pal[2], normed=True, label='train')\n",
    "plt.hist(dist_test, bins=50, range=[0, 50], color=pal[1], normed=True, alpha=0.5, label='test')\n",
    "plt.title('Normalised histogram of word count in training set', fontsize=15)\n",
    "plt.legend()\n",
    "plt.xlabel('Number of words', fontsize=15)\n",
    "plt.ylabel('Probability', fontsize=15)\n",
    "\n",
    "print('mean-train {:.2f} std-train {:.2f} mean-test {:.2f} std-test {:.2f} max-train {:.2f} max-test {:.2f}'.format(dist_train.mean(),\n",
    "                          dist_train.std(), dist_test.mean(), dist_test.std(), dist_train.max(), dist_test.max()))\n"
   ],
   "metadata": {
    "collapsed": false,
    "pycharm": {
     "name": "#%%\n"
    }
   }
  }
 ],
 "metadata": {
  "kernelspec": {
   "display_name": "Python 3",
   "language": "python",
   "name": "python3"
  },
  "language_info": {
   "codemirror_mode": {
    "name": "ipython",
    "version": 2
   },
   "file_extension": ".py",
   "mimetype": "text/x-python",
   "name": "python",
   "nbconvert_exporter": "python",
   "pygments_lexer": "ipython2",
   "version": "2.7.6"
  }
 },
 "nbformat": 4,
 "nbformat_minor": 0
}