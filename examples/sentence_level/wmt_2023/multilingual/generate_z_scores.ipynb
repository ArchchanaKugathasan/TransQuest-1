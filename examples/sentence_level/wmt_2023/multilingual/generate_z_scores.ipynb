{
 "cells": [
  {
   "cell_type": "code",
   "execution_count": 6,
   "id": "109234d2",
   "metadata": {
    "id": "109234d2"
   },
   "outputs": [],
   "source": [
    "import pandas as pd\n",
    "import statistics as stats"
   ]
  },
  {
   "cell_type": "code",
   "execution_count": 7,
   "id": "1c42061f",
   "metadata": {
    "id": "1c42061f"
   },
   "outputs": [],
   "source": [
    "def get_zscores(df):\n",
    "    sc = df['scores'].to_list()\n",
    "\n",
    "    scores_list = []\n",
    "    for sc_str in sc:\n",
    "        #print(sc_str)\n",
    "        scores = [int(s) for s in sc_str[1:-1].split(',')]\n",
    "        #print(scores)\n",
    "        scores_list.append(scores)\n",
    "\n",
    "    means = [sum(lst) / 3 for lst in scores_list]\n",
    "\n",
    "    scores_1, scores_2, scores_3 = [], [], []\n",
    "    for lst in scores_list:\n",
    "        scores_1.append(lst[0])\n",
    "        scores_2.append(lst[1])\n",
    "        scores_3.append(lst[2])\n",
    "    \n",
    "    #print(scores_1)\n",
    "    #print(len(scores_1))\n",
    "\n",
    "    mean1 = sum(scores_1) / len(scores_1)\n",
    "    mean2 = sum(scores_2) / len(scores_2)\n",
    "    mean3 = sum(scores_3) / len(scores_3)\n",
    "\n",
    "    std1 = stats.stdev(scores_1)\n",
    "    std2 = stats.stdev(scores_2)\n",
    "    std3 = stats.stdev(scores_3)\n",
    "\n",
    "    zmeans1 = [(s - mean1) / std1 for s in scores_1]\n",
    "    zmeans2 = [(s - mean2) / std2 for s in scores_2]\n",
    "    zmeans3 = [(s - mean3) / std3 for s in scores_3]\n",
    "\n",
    "    z_list = []\n",
    "    z_mean_list = []\n",
    "    for z1, z2, z3 in zip(zmeans1, zmeans2, zmeans3):\n",
    "        z_list.append([z1, z2,z3])\n",
    "        zmean = (z1 + z2 + z3) / 3\n",
    "        z_mean_list.append(zmean)\n",
    "\n",
    "    df['z_scores'] = z_list\n",
    "    df['z_mean'] = z_mean_list\n",
    "    return df"
   ]
  },
  {
   "cell_type": "code",
   "execution_count": 8,
   "id": "f7f4437e",
   "metadata": {},
   "outputs": [],
   "source": [
    "#storing the id s in a different file , storing it with 0.,1,2\n",
    "def ids_to_index(df, f_name):\n",
    "    index = [i for i in range(len(df))]\n",
    "    ids = df['index'].to_list()\n",
    "    with open(f_name, 'w') as f:\n",
    "        for idx, key in zip(index, ids):\n",
    "            f.write(str(idx) + '\\t' + str(key) + '\\n')\n",
    "    df['index'] = index"
   ]
  },
  {
   "cell_type": "markdown",
   "id": "50efea8f",
   "metadata": {},
   "source": [
    "### general"
   ]
  },
  {
   "cell_type": "code",
   "execution_count": 9,
   "id": "9f1be0af",
   "metadata": {},
   "outputs": [],
   "source": [
    "file_path = 'E:/OneDrive - University of Surrey/MEETINGS/QE_Thursday_Annotation_Meeting/En-Ta_Meeting/For_WMT23/En-Ta/Combined/ToNotebook/en_ta_general_41506wc_Techliebe_Combined_for_notebook.xlsx'\n",
    "df_gen = pd.read_excel(file_path)\n",
    "\n",
    "\n",
    "#df_gen = pd.read_excel('en_ta_general_41506wc_Techliebe_Combined_for_notebook.xlsx')\n",
    "df_gen.columns = ['index', 'original', 'translation', 'scores', 'mean']\n",
    "df_gen = df_gen.dropna()\n",
    "#df_gen = df_gen[~df_gen['mean'].isin(['N/A'])]\n",
    "#df_gen = df_gen[~df_gen['scores'].isin(['[0,0,0]', '[5,0,0]', '[5,0,10]', '[0,20,10]'])]\n",
    "#df_gen = df_gen.sample(frac=1).reset_index(drop=True)\n",
    "#df_gen = df_gen.head(2310) #before split"
   ]
  },
  {
   "cell_type": "code",
   "execution_count": 10,
   "id": "4131609a",
   "metadata": {},
   "outputs": [],
   "source": [
    "#df_gen_train = df_gen[:1792] #train\n",
    "#df_gen_dev = df_gen[1792:2048] #dev\n",
    "df_gen_test = df_gen[2048:2304]#test"
   ]
  },
  {
   "cell_type": "code",
   "execution_count": 11,
   "id": "b1509f47",
   "metadata": {},
   "outputs": [],
   "source": [
    "df_legal = pd.read_excel('en_ta_legal_54119wc_Techliebe_Combined_for_notebook.xlsx')\n",
    "df_legal.columns = ['index', 'original', 'translation', 'scores', 'mean']\n",
    "df_legal = df_legal.dropna()\n",
    "#df_legal = df_legal[~df_legal['mean'].isin(['N/A'])]\n",
    "#df_legal = df_legal[~df_legal['scores'].isin(['[0,0,0]', '[5,0,0]', '[5,0,10]', '[0,20,10]'])]\n",
    "df_legal = df_legal.sample(frac=1).reset_index(drop=True)\n",
    "#df_legal = df_legal.head(2297)"
   ]
  },
  {
   "cell_type": "code",
   "execution_count": 12,
   "id": "e9467909",
   "metadata": {},
   "outputs": [],
   "source": [
    "#df_legal_train = df_legal[:2009]\n",
    "#df_legal_dev = df_legal[2009:2296]\n",
    "#df_legal_test = df_legal[2400:] #no test data due to lack of data"
   ]
  },
  {
   "cell_type": "code",
   "execution_count": 14,
   "id": "640382c0",
   "metadata": {},
   "outputs": [],
   "source": [
    "df_health = pd.read_excel('en_ta_health_40470wc_Techliebe_Combined_for_notebook.xlsx')\n",
    "df_health.columns = ['index', 'original', 'translation', 'scores', 'mean']\n",
    "df_health = df_health.dropna()\n",
    "#df_health = df_health[~df_health['mean'].isin(['N/A'])]\n",
    "#df_health = df_health[~df_health['scores'].isin(['[0,0,0]', '[5,0,0]', '[5,0,10]', '[0,20,10]'])]\n",
    "df_health= df_health.sample(frac=1).reset_index(drop=True)\n",
    "#df_health = df_health.head(2325)"
   ]
  },
  {
   "cell_type": "code",
   "execution_count": 15,
   "id": "e41446cc",
   "metadata": {},
   "outputs": [],
   "source": [
    "#df_health_train = df_health[:1834]\n",
    "#df_health_dev = df_health[1834:2174]\n",
    "df_health_test = df_health[2173:2297]"
   ]
  },
  {
   "cell_type": "code",
   "execution_count": 16,
   "id": "5c305336",
   "metadata": {},
   "outputs": [],
   "source": [
    "df_other = pd.read_excel('en_ta_other_domains_23442wc_Techliebe_Combined_for_notebook.xlsx')\n",
    "df_other.columns = ['index', 'original', 'translation', 'scores', 'mean']\n",
    "df_other = df_other.dropna()\n",
    "#df_other = df_other[~df_other['mean'].isin(['N/A'])]\n",
    "#df_other = df_other[~df_other['scores'].isin(['[0,0,0]', '[5,0,0]', '[5,0,10]', '[0,20,10]'])]\n",
    "df_other = df_other.sample(frac=1).reset_index(drop=True)\n",
    "#df_other = df_other.head(1483)"
   ]
  },
  {
   "cell_type": "code",
   "execution_count": 17,
   "id": "092a1895",
   "metadata": {},
   "outputs": [],
   "source": [
    "#df_other_train = df_other[:1365]\n",
    "#df_other_dev = df_other[1365:1483]\n",
    "#df_health_test = df_health[2141:]"
   ]
  },
  {
   "cell_type": "code",
   "execution_count": 18,
   "id": "2e49d0c6",
   "metadata": {},
   "outputs": [],
   "source": [
    "df_other = pd.read_excel('en_ta_other_domains_TECHLIEBE_Combined_2_For_notebook.xlsx')\n",
    "df_other.columns = ['index', 'original', 'translation', 'scores', 'mean']\n",
    "df_other = df_other.dropna()\n",
    "#df_other = df_other[~df_other['mean'].isin(['N/A'])]\n",
    "#df_other = df_other[~df_other['scores'].isin(['[0,0,0]', '[5,0,0]', '[5,0,10]', '[0,20,10]'])]\n",
    "df_other = df_other.sample(frac=1).reset_index(drop=True)\n",
    "#df_other = df_other.head(1483)"
   ]
  },
  {
   "cell_type": "code",
   "execution_count": 19,
   "id": "300ea022",
   "metadata": {},
   "outputs": [],
   "source": [
    "df_other_test = df_other[:620]"
   ]
  },
  {
   "cell_type": "code",
   "execution_count": 21,
   "id": "fcd14b50",
   "metadata": {},
   "outputs": [],
   "source": [
    "#df_train = pd.concat([df_gen_train, df_legal_train, df_health_train, df_other_train], ignore_index=True)\n",
    "#df_dev = pd.concat([df_gen_dev, df_legal_dev, df_health_dev, df_other_dev], ignore_index=True)\n",
    "df_test = pd.concat([df_gen_test, df_other_test, df_health_test], ignore_index=True)"
   ]
  },
  {
   "cell_type": "code",
   "execution_count": 22,
   "id": "3f0f04c7",
   "metadata": {},
   "outputs": [],
   "source": [
    "#df_train = get_zscores(df_train)\n",
    "#df_dev = get_zscores(df_dev)\n",
    "df_test = get_zscores(df_test)"
   ]
  },
  {
   "cell_type": "code",
   "execution_count": 23,
   "id": "ae6c65ac",
   "metadata": {},
   "outputs": [],
   "source": [
    "#ids_to_index(df_train, 'enta_train.txt')\n",
    "#ids_to_index(df_dev, 'enta_dev.txt')\n",
    "ids_to_index(df_test, 'enta_test.txt')"
   ]
  },
  {
   "cell_type": "code",
   "execution_count": 24,
   "id": "4c8ae748",
   "metadata": {
    "id": "4c8ae748"
   },
   "outputs": [],
   "source": [
    "#df_train.to_csv('train.enta.df.short.tsv', sep='\\t', index=False)\n",
    "#df_dev.to_csv('dev.enta.df.short.tsv', sep='\\t', index=False)\n",
    "df_test.to_csv('test.enta.df.short.tsv', sep='\\t', index=False)"
   ]
  },
  {
   "cell_type": "code",
   "execution_count": null,
   "id": "c6769ade",
   "metadata": {},
   "outputs": [],
   "source": []
  },
  {
   "cell_type": "code",
   "execution_count": 5,
   "id": "9a2cb89c",
   "metadata": {},
   "outputs": [],
   "source": []
  },
  {
   "cell_type": "code",
   "execution_count": null,
   "id": "d5040a78",
   "metadata": {},
   "outputs": [],
   "source": []
  }
 ],
 "metadata": {
  "colab": {
   "provenance": []
  },
  "kernelspec": {
   "display_name": "Python 3 (ipykernel)",
   "language": "python",
   "name": "python3"
  },
  "language_info": {
   "codemirror_mode": {
    "name": "ipython",
    "version": 3
   },
   "file_extension": ".py",
   "mimetype": "text/x-python",
   "name": "python",
   "nbconvert_exporter": "python",
   "pygments_lexer": "ipython3",
   "version": "3.9.13"
  }
 },
 "nbformat": 4,
 "nbformat_minor": 5
}
